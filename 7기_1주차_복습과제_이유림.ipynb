{
 "cells": [
  {
   "cell_type": "code",
   "execution_count": 1,
   "metadata": {},
   "outputs": [],
   "source": [
    "import pandas as pd\n",
    "from pandas import Series, DataFrame\n",
    "import numpy as np\n",
    "import warnings\n",
    "warnings.filterwarnings(\"ignore\")"
   ]
  },
  {
   "cell_type": "code",
   "execution_count": 2,
   "metadata": {},
   "outputs": [
    {
     "data": {
      "text/html": [
       "<div>\n",
       "<style scoped>\n",
       "    .dataframe tbody tr th:only-of-type {\n",
       "        vertical-align: middle;\n",
       "    }\n",
       "\n",
       "    .dataframe tbody tr th {\n",
       "        vertical-align: top;\n",
       "    }\n",
       "\n",
       "    .dataframe thead th {\n",
       "        text-align: right;\n",
       "    }\n",
       "</style>\n",
       "<table border=\"1\" class=\"dataframe\">\n",
       "  <thead>\n",
       "    <tr style=\"text-align: right;\">\n",
       "      <th></th>\n",
       "      <th>id</th>\n",
       "      <th>date</th>\n",
       "      <th>route_id</th>\n",
       "      <th>vh_id</th>\n",
       "      <th>route_nm</th>\n",
       "      <th>now_latitude</th>\n",
       "      <th>now_longitude</th>\n",
       "      <th>now_station</th>\n",
       "      <th>now_arrive_time</th>\n",
       "      <th>distance</th>\n",
       "      <th>next_station</th>\n",
       "      <th>next_latitude</th>\n",
       "      <th>next_longitude</th>\n",
       "      <th>next_arrive_time</th>\n",
       "    </tr>\n",
       "  </thead>\n",
       "  <tbody>\n",
       "    <tr>\n",
       "      <th>0</th>\n",
       "      <td>0</td>\n",
       "      <td>2019-10-15</td>\n",
       "      <td>405136001</td>\n",
       "      <td>7997025</td>\n",
       "      <td>360-1</td>\n",
       "      <td>33.456267</td>\n",
       "      <td>126.551750</td>\n",
       "      <td>제주대학교입구</td>\n",
       "      <td>06시</td>\n",
       "      <td>266.0</td>\n",
       "      <td>제대마을</td>\n",
       "      <td>33.457724</td>\n",
       "      <td>126.554014</td>\n",
       "      <td>24</td>\n",
       "    </tr>\n",
       "    <tr>\n",
       "      <th>1</th>\n",
       "      <td>1</td>\n",
       "      <td>2019-10-15</td>\n",
       "      <td>405136001</td>\n",
       "      <td>7997025</td>\n",
       "      <td>360-1</td>\n",
       "      <td>33.457724</td>\n",
       "      <td>126.554014</td>\n",
       "      <td>제대마을</td>\n",
       "      <td>06시</td>\n",
       "      <td>333.0</td>\n",
       "      <td>제대아파트</td>\n",
       "      <td>33.458783</td>\n",
       "      <td>126.557353</td>\n",
       "      <td>36</td>\n",
       "    </tr>\n",
       "    <tr>\n",
       "      <th>2</th>\n",
       "      <td>2</td>\n",
       "      <td>2019-10-15</td>\n",
       "      <td>405136001</td>\n",
       "      <td>7997025</td>\n",
       "      <td>360-1</td>\n",
       "      <td>33.458783</td>\n",
       "      <td>126.557353</td>\n",
       "      <td>제대아파트</td>\n",
       "      <td>06시</td>\n",
       "      <td>415.0</td>\n",
       "      <td>제주대학교</td>\n",
       "      <td>33.459893</td>\n",
       "      <td>126.561624</td>\n",
       "      <td>40</td>\n",
       "    </tr>\n",
       "    <tr>\n",
       "      <th>3</th>\n",
       "      <td>3</td>\n",
       "      <td>2019-10-15</td>\n",
       "      <td>405136001</td>\n",
       "      <td>7997025</td>\n",
       "      <td>360-1</td>\n",
       "      <td>33.479705</td>\n",
       "      <td>126.543811</td>\n",
       "      <td>남국원(아라방면)</td>\n",
       "      <td>06시</td>\n",
       "      <td>578.0</td>\n",
       "      <td>제주여자중고등학교(아라방면)</td>\n",
       "      <td>33.484860</td>\n",
       "      <td>126.542928</td>\n",
       "      <td>42</td>\n",
       "    </tr>\n",
       "    <tr>\n",
       "      <th>4</th>\n",
       "      <td>4</td>\n",
       "      <td>2019-10-15</td>\n",
       "      <td>405136001</td>\n",
       "      <td>7997025</td>\n",
       "      <td>360-1</td>\n",
       "      <td>33.485662</td>\n",
       "      <td>126.494923</td>\n",
       "      <td>도호동</td>\n",
       "      <td>07시</td>\n",
       "      <td>374.0</td>\n",
       "      <td>은남동</td>\n",
       "      <td>33.485822</td>\n",
       "      <td>126.490897</td>\n",
       "      <td>64</td>\n",
       "    </tr>\n",
       "  </tbody>\n",
       "</table>\n",
       "</div>"
      ],
      "text/plain": [
       "   id        date   route_id    vh_id route_nm  now_latitude  now_longitude  \\\n",
       "0   0  2019-10-15  405136001  7997025    360-1     33.456267     126.551750   \n",
       "1   1  2019-10-15  405136001  7997025    360-1     33.457724     126.554014   \n",
       "2   2  2019-10-15  405136001  7997025    360-1     33.458783     126.557353   \n",
       "3   3  2019-10-15  405136001  7997025    360-1     33.479705     126.543811   \n",
       "4   4  2019-10-15  405136001  7997025    360-1     33.485662     126.494923   \n",
       "\n",
       "  now_station now_arrive_time  distance     next_station  next_latitude  \\\n",
       "0     제주대학교입구             06시     266.0             제대마을      33.457724   \n",
       "1        제대마을             06시     333.0            제대아파트      33.458783   \n",
       "2       제대아파트             06시     415.0            제주대학교      33.459893   \n",
       "3   남국원(아라방면)             06시     578.0  제주여자중고등학교(아라방면)      33.484860   \n",
       "4         도호동             07시     374.0              은남동      33.485822   \n",
       "\n",
       "   next_longitude  next_arrive_time  \n",
       "0      126.554014                24  \n",
       "1      126.557353                36  \n",
       "2      126.561624                40  \n",
       "3      126.542928                42  \n",
       "4      126.490897                64  "
      ]
     },
     "execution_count": 2,
     "metadata": {},
     "output_type": "execute_result"
    }
   ],
   "source": [
    "data = pd.read_csv('bus_runtime_2000.csv')\n",
    "data.head(5)"
   ]
  },
  {
   "cell_type": "code",
   "execution_count": 3,
   "metadata": {},
   "outputs": [],
   "source": [
    "# 1-1. data에서 date, now_station, now_arrive_time 열을 뽑음과 동시에 행을 처음부터 6개를 뽑아 df에 저장하고 csv파일로 내보내세요! "
   ]
  },
  {
   "cell_type": "code",
   "execution_count": 4,
   "metadata": {},
   "outputs": [],
   "source": [
    "df1 = data[['date','now_station','now_arrive_time']].iloc[:6]\n",
    "df1.to_csv(\"data_df1.csv\", index=False)"
   ]
  },
  {
   "cell_type": "code",
   "execution_count": 5,
   "metadata": {},
   "outputs": [],
   "source": [
    "# 1-2. 방금 내보낸 csv파일을 다시 읽어 df에 저장하세요!"
   ]
  },
  {
   "cell_type": "code",
   "execution_count": 6,
   "metadata": {},
   "outputs": [
    {
     "data": {
      "text/html": [
       "<div>\n",
       "<style scoped>\n",
       "    .dataframe tbody tr th:only-of-type {\n",
       "        vertical-align: middle;\n",
       "    }\n",
       "\n",
       "    .dataframe tbody tr th {\n",
       "        vertical-align: top;\n",
       "    }\n",
       "\n",
       "    .dataframe thead th {\n",
       "        text-align: right;\n",
       "    }\n",
       "</style>\n",
       "<table border=\"1\" class=\"dataframe\">\n",
       "  <thead>\n",
       "    <tr style=\"text-align: right;\">\n",
       "      <th></th>\n",
       "      <th>date</th>\n",
       "      <th>now_station</th>\n",
       "      <th>now_arrive_time</th>\n",
       "    </tr>\n",
       "  </thead>\n",
       "  <tbody>\n",
       "    <tr>\n",
       "      <th>0</th>\n",
       "      <td>2019-10-15</td>\n",
       "      <td>제주대학교입구</td>\n",
       "      <td>06시</td>\n",
       "    </tr>\n",
       "    <tr>\n",
       "      <th>1</th>\n",
       "      <td>2019-10-15</td>\n",
       "      <td>제대마을</td>\n",
       "      <td>06시</td>\n",
       "    </tr>\n",
       "    <tr>\n",
       "      <th>2</th>\n",
       "      <td>2019-10-15</td>\n",
       "      <td>제대아파트</td>\n",
       "      <td>06시</td>\n",
       "    </tr>\n",
       "    <tr>\n",
       "      <th>3</th>\n",
       "      <td>2019-10-15</td>\n",
       "      <td>남국원(아라방면)</td>\n",
       "      <td>06시</td>\n",
       "    </tr>\n",
       "    <tr>\n",
       "      <th>4</th>\n",
       "      <td>2019-10-15</td>\n",
       "      <td>도호동</td>\n",
       "      <td>07시</td>\n",
       "    </tr>\n",
       "    <tr>\n",
       "      <th>5</th>\n",
       "      <td>2019-10-15</td>\n",
       "      <td>한라중학교/부영아파트</td>\n",
       "      <td>07시</td>\n",
       "    </tr>\n",
       "  </tbody>\n",
       "</table>\n",
       "</div>"
      ],
      "text/plain": [
       "         date  now_station now_arrive_time\n",
       "0  2019-10-15      제주대학교입구             06시\n",
       "1  2019-10-15         제대마을             06시\n",
       "2  2019-10-15        제대아파트             06시\n",
       "3  2019-10-15    남국원(아라방면)             06시\n",
       "4  2019-10-15          도호동             07시\n",
       "5  2019-10-15  한라중학교/부영아파트             07시"
      ]
     },
     "execution_count": 6,
     "metadata": {},
     "output_type": "execute_result"
    }
   ],
   "source": [
    "df = pd.read_csv('data_df1.csv')\n",
    "df"
   ]
  },
  {
   "cell_type": "code",
   "execution_count": 7,
   "metadata": {},
   "outputs": [],
   "source": [
    "# 1-3. df와 똑같은 데이터프레임을 dictionary를 활용해 만들어 df2에 할당해주세요. hint( values 를 활용하여 작성하시오.)"
   ]
  },
  {
   "cell_type": "code",
   "execution_count": 8,
   "metadata": {},
   "outputs": [],
   "source": [
    "date = ['2019-10-15', '2019-10-15', '2019-10-15', '2019-10-15', '2019-10-15', '2019-10-15']\n",
    "station = ['제주대학교입구', '제대마을', '제대아파트', '남국원(아라방면)', '도호동', '한라중학교/부영아파트']\n",
    "time = ['06시', '06시', '06시', '06시', '07시', '07시']"
   ]
  },
  {
   "cell_type": "code",
   "execution_count": 9,
   "metadata": {},
   "outputs": [
    {
     "data": {
      "text/html": [
       "<div>\n",
       "<style scoped>\n",
       "    .dataframe tbody tr th:only-of-type {\n",
       "        vertical-align: middle;\n",
       "    }\n",
       "\n",
       "    .dataframe tbody tr th {\n",
       "        vertical-align: top;\n",
       "    }\n",
       "\n",
       "    .dataframe thead th {\n",
       "        text-align: right;\n",
       "    }\n",
       "</style>\n",
       "<table border=\"1\" class=\"dataframe\">\n",
       "  <thead>\n",
       "    <tr style=\"text-align: right;\">\n",
       "      <th></th>\n",
       "      <th>date</th>\n",
       "      <th>now_station</th>\n",
       "      <th>now_arrive_time</th>\n",
       "    </tr>\n",
       "  </thead>\n",
       "  <tbody>\n",
       "    <tr>\n",
       "      <th>0</th>\n",
       "      <td>2019-10-15</td>\n",
       "      <td>제주대학교입구</td>\n",
       "      <td>06시</td>\n",
       "    </tr>\n",
       "    <tr>\n",
       "      <th>1</th>\n",
       "      <td>2019-10-15</td>\n",
       "      <td>제대마을</td>\n",
       "      <td>06시</td>\n",
       "    </tr>\n",
       "    <tr>\n",
       "      <th>2</th>\n",
       "      <td>2019-10-15</td>\n",
       "      <td>제대아파트</td>\n",
       "      <td>06시</td>\n",
       "    </tr>\n",
       "    <tr>\n",
       "      <th>3</th>\n",
       "      <td>2019-10-15</td>\n",
       "      <td>남국원(아라방면)</td>\n",
       "      <td>06시</td>\n",
       "    </tr>\n",
       "    <tr>\n",
       "      <th>4</th>\n",
       "      <td>2019-10-15</td>\n",
       "      <td>도호동</td>\n",
       "      <td>07시</td>\n",
       "    </tr>\n",
       "    <tr>\n",
       "      <th>5</th>\n",
       "      <td>2019-10-15</td>\n",
       "      <td>한라중학교/부영아파트</td>\n",
       "      <td>07시</td>\n",
       "    </tr>\n",
       "  </tbody>\n",
       "</table>\n",
       "</div>"
      ],
      "text/plain": [
       "         date  now_station now_arrive_time\n",
       "0  2019-10-15      제주대학교입구             06시\n",
       "1  2019-10-15         제대마을             06시\n",
       "2  2019-10-15        제대아파트             06시\n",
       "3  2019-10-15    남국원(아라방면)             06시\n",
       "4  2019-10-15          도호동             07시\n",
       "5  2019-10-15  한라중학교/부영아파트             07시"
      ]
     },
     "execution_count": 9,
     "metadata": {},
     "output_type": "execute_result"
    }
   ],
   "source": [
    "my_dict = {'date':date, 'now_station':station, 'now_arrive_time':time}\n",
    "df2 = pd.DataFrame(my_dict)\n",
    "df2"
   ]
  },
  {
   "cell_type": "code",
   "execution_count": 10,
   "metadata": {},
   "outputs": [],
   "source": [
    "# 2. df2의 date열의 자료형을 datetime64로 바꿔주세요!"
   ]
  },
  {
   "cell_type": "code",
   "execution_count": 11,
   "metadata": {},
   "outputs": [
    {
     "data": {
      "text/plain": [
       "date               datetime64[ns]\n",
       "now_station                object\n",
       "now_arrive_time            object\n",
       "dtype: object"
      ]
     },
     "execution_count": 11,
     "metadata": {},
     "output_type": "execute_result"
    }
   ],
   "source": [
    "df2.astype({'date':'datetime64'}).dtypes"
   ]
  },
  {
   "cell_type": "code",
   "execution_count": 12,
   "metadata": {},
   "outputs": [],
   "source": [
    "# 3-1. df2에서 now_arrive_time의 빈도수가 가장 적은 값을 찾아 k 라는 변수에 할당해주세요! (한줄로 작성해주세요) 메소드 체이닝~"
   ]
  },
  {
   "cell_type": "code",
   "execution_count": 52,
   "metadata": {},
   "outputs": [],
   "source": [
    "k = df2.now_arrive_time.value_counts(sort=True, ascending=True).index[0]"
   ]
  },
  {
   "cell_type": "code",
   "execution_count": 14,
   "metadata": {},
   "outputs": [],
   "source": [
    "# 3-2. df2에서 now_arrive_time이 k인 행을 모두 뽑고 해당 데이터프레임에서 now_station의 값의 종류를 모두 보여라.\n",
    "#(한줄로 작성해주세요)메소드 체이닝~ hint(query 사용!)"
   ]
  },
  {
   "cell_type": "code",
   "execution_count": 57,
   "metadata": {},
   "outputs": [
    {
     "data": {
      "text/plain": [
       "array(['도호동', '한라중학교/부영아파트'], dtype=object)"
      ]
     },
     "execution_count": 57,
     "metadata": {},
     "output_type": "execute_result"
    }
   ],
   "source": [
    "df2.query(\"now_arrive_time == @k\")['now_station'].unique()"
   ]
  }
 ],
 "metadata": {
  "kernelspec": {
   "display_name": "Python 3",
   "language": "python",
   "name": "python3"
  },
  "language_info": {
   "codemirror_mode": {
    "name": "ipython",
    "version": 3
   },
   "file_extension": ".py",
   "mimetype": "text/x-python",
   "name": "python",
   "nbconvert_exporter": "python",
   "pygments_lexer": "ipython3",
   "version": "3.8.5"
  }
 },
 "nbformat": 4,
 "nbformat_minor": 4
}
